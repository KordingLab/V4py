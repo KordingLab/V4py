{
 "cells": [
  {
   "cell_type": "code",
   "execution_count": 1,
   "metadata": {
    "collapsed": true
   },
   "outputs": [],
   "source": [
    "import numpy as np\n",
    "import scipy.io as io\n",
    "import h5py\n",
    "import deepdish as dd\n",
    "import dask.array as da"
   ]
  },
  {
   "cell_type": "markdown",
   "metadata": {},
   "source": [
    "### Read mat and write out as h5"
   ]
  },
  {
   "cell_type": "code",
   "execution_count": 4,
   "metadata": {
    "collapsed": false
   },
   "outputs": [
    {
     "data": {
      "text/plain": [
       "[u'#refs#', u'eyes', u'spikes']"
      ]
     },
     "execution_count": 4,
     "metadata": {},
     "output_type": "execute_result"
    }
   ],
   "source": [
    "# Get the file pointer\n",
    "f = h5py.File('sessiondata.mat')\n",
    "f.keys()"
   ]
  },
  {
   "cell_type": "code",
   "execution_count": 5,
   "metadata": {
    "collapsed": false
   },
   "outputs": [
    {
     "data": {
      "text/plain": [
       "array([[ 0.14579592,  0.4386571 ,  0.45526052, ...,  0.97087662,\n",
       "         0.77191538,  0.60585405],\n",
       "       [ 0.84238319,  0.67859425,  0.9235082 , ...,  0.31956551,\n",
       "         0.39432979,  0.8385655 ],\n",
       "       [ 0.16025677,  0.23317229,  0.1638342 , ...,  0.8099979 ,\n",
       "         0.39543674,  0.37210186],\n",
       "       ..., \n",
       "       [ 0.21062345,  0.4310531 ,  0.43279427, ...,  0.22739123,\n",
       "         0.91842785,  0.46795266],\n",
       "       [ 0.56451693,  0.63680506,  0.68741876, ...,  0.85187091,\n",
       "         0.99911962,  0.56117048],\n",
       "       [ 0.37230056,  0.99421934,  0.63892119, ...,  0.47302873,\n",
       "         0.37639028,  0.42562775]])"
      ]
     },
     "execution_count": 5,
     "metadata": {},
     "output_type": "execute_result"
    }
   ],
   "source": [
    "# Eyes data\n",
    "eyes = np.array(f['eyes'])\n",
    "eyes"
   ]
  },
  {
   "cell_type": "code",
   "execution_count": 6,
   "metadata": {
    "collapsed": false
   },
   "outputs": [
    {
     "name": "stdout",
     "output_type": "stream",
     "text": [
      "0101\n",
      "[ 0.10838973  0.28835025  0.41181791  0.45435021  0.45838425  0.47751364\n",
      "  0.50879078  0.53368318  0.53619985  0.60082462]\n",
      "0201\n",
      "[ 0.00493942  0.09943164  0.1250208   0.16063269  0.31444801  0.32342396\n",
      "  0.45609411  0.48181167  0.57149892  0.65069226]\n"
     ]
    }
   ],
   "source": [
    "# Convert spikes struct to dict\n",
    "spikes_object = f['spikes']\n",
    "unit_object = spikes_object['unit']\n",
    "times_object = spikes_object['times']\n",
    "\n",
    "spikes = {}\n",
    "for u in range(unit_object.size):\n",
    "    uu = np.array(f[unit_object[u,0]])\n",
    "    tt = np.array(f[times_object[u,0]])\n",
    "    channel = int(np.floor(uu[0][0]))\n",
    "    unit = int(10*(uu[0][0] - np.floor(uu[0][0])))\n",
    "    unitid = '{0:0=2d}'.format(channel)+'{0:0=2d}'.format(unit)\n",
    "    times = tt[0][:]\n",
    "    spikes[unitid] = times\n",
    "\n",
    "for u in spikes:\n",
    "    print u\n",
    "    print spikes[u][:10]"
   ]
  },
  {
   "cell_type": "code",
   "execution_count": 8,
   "metadata": {
    "collapsed": false
   },
   "outputs": [
    {
     "name": "stdout",
     "output_type": "stream",
     "text": [
      "zlib\n"
     ]
    }
   ],
   "source": [
    "# Put everything into a bigger dict\n",
    "d = {}\n",
    "d['eyes'] = eyes\n",
    "d['spikes'] = spikes\n",
    "\n",
    "# Save it using deepdish\n",
    "dd.io.save('testfile.h5', d)"
   ]
  },
  {
   "cell_type": "code",
   "execution_count": 9,
   "metadata": {
    "collapsed": false
   },
   "outputs": [],
   "source": [
    "# Read it in using deepdish\n",
    "dat = dd.io.load('testfile.h5')"
   ]
  },
  {
   "cell_type": "code",
   "execution_count": 10,
   "metadata": {
    "collapsed": false
   },
   "outputs": [
    {
     "data": {
      "text/plain": [
       "array([ 0.10838973,  0.28835025,  0.41181791,  0.45435021,  0.45838425,\n",
       "        0.47751364,  0.50879078,  0.53368318,  0.53619985,  0.60082462])"
      ]
     },
     "execution_count": 10,
     "metadata": {},
     "output_type": "execute_result"
    }
   ],
   "source": [
    "dat['spikes']['0101'][:10]"
   ]
  },
  {
   "cell_type": "code",
   "execution_count": 11,
   "metadata": {
    "collapsed": false
   },
   "outputs": [],
   "source": [
    "# Read in only a small portion of the file with dask\n",
    "\n",
    "fr = h5py.File('testfile.h5')\n",
    "unitid = '0101'\n",
    "x = da.from_array(fr['/spikes/{}'.format(unitid)], chunks=(100, 1))"
   ]
  },
  {
   "cell_type": "code",
   "execution_count": 12,
   "metadata": {
    "collapsed": false
   },
   "outputs": [
    {
     "data": {
      "text/plain": [
       "(2000,)"
      ]
     },
     "execution_count": 12,
     "metadata": {},
     "output_type": "execute_result"
    }
   ],
   "source": [
    "x.shape"
   ]
  },
  {
   "cell_type": "code",
   "execution_count": null,
   "metadata": {
    "collapsed": true
   },
   "outputs": [],
   "source": []
  },
  {
   "cell_type": "code",
   "execution_count": null,
   "metadata": {
    "collapsed": true
   },
   "outputs": [],
   "source": []
  },
  {
   "cell_type": "code",
   "execution_count": null,
   "metadata": {
    "collapsed": true
   },
   "outputs": [],
   "source": []
  },
  {
   "cell_type": "code",
   "execution_count": null,
   "metadata": {
    "collapsed": true
   },
   "outputs": [],
   "source": []
  },
  {
   "cell_type": "code",
   "execution_count": null,
   "metadata": {
    "collapsed": true
   },
   "outputs": [],
   "source": []
  },
  {
   "cell_type": "code",
   "execution_count": null,
   "metadata": {
    "collapsed": true
   },
   "outputs": [],
   "source": []
  }
 ],
 "metadata": {
  "kernelspec": {
   "display_name": "Python 2",
   "language": "python",
   "name": "python2"
  },
  "language_info": {
   "codemirror_mode": {
    "name": "ipython",
    "version": 2
   },
   "file_extension": ".py",
   "mimetype": "text/x-python",
   "name": "python",
   "nbconvert_exporter": "python",
   "pygments_lexer": "ipython2",
   "version": "2.7.11"
  }
 },
 "nbformat": 4,
 "nbformat_minor": 0
}
