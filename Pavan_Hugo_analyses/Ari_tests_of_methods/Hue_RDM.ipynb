{
 "cells": [
  {
   "cell_type": "code",
   "execution_count": 92,
   "metadata": {
    "collapsed": false
   },
   "outputs": [],
   "source": [
    "# compute\n",
    "import numpy as np\n",
    "import pandas as pd\n",
    "import keras\n",
    "\n",
    "# data io\n",
    "import glob\n",
    "import deepdish as dd\n",
    "import sys\n",
    "sys.path.append('../')\n",
    "\n",
    "# image\n",
    "import cv2\n",
    "\n",
    "# plot\n",
    "import matplotlib.pyplot as plt\n",
    "%matplotlib inline\n",
    "\n",
    "# spykes\n",
    "from spykes.neuropop import NeuroPop\n",
    "from spykes.neurovis import NeuroVis\n",
    "\n",
    "# stats\n",
    "from scipy.stats import circmean\n",
    "\n",
    "# machine learning\n",
    "import xgboost as xgb\n",
    "\n",
    "# local\n",
    "import V4pyutils as V4\n",
    "\n",
    "from sklearn.manifold import TSNE, MDS, SpectralEmbedding"
   ]
  },
  {
   "cell_type": "markdown",
   "metadata": {},
   "source": [
    "### Load data"
   ]
  },
  {
   "cell_type": "code",
   "execution_count": 2,
   "metadata": {
    "collapsed": true
   },
   "outputs": [],
   "source": [
    "h5path = '../V4pydata/H5data/M3/'\n",
    "data = pd.read_excel('/home/klab/Projects/02-V4py/V4py/V4pydata/natural_artificial.xlsx')\n",
    "data_M3 = data[data['Animal']=='M3']\n",
    "\n",
    "df = pd.read_pickle('../02-preprocessed_data/M3/merged_art_data_across_sessions')\n",
    "\n",
    "df_neurons = pd.read_pickle('../02-preprocessed_data/M3/data_to_combine_across_sessions')\n",
    "\n",
    "nat_df = pd.read_pickle('../02-preprocessed_data/M3/merged_nat_data_across_sessions')\n",
    "\n",
    "nat_features = pd.read_pickle('../02-preprocessed_data/M3/precomputed_nat_features')"
   ]
  },
  {
   "cell_type": "code",
   "execution_count": 123,
   "metadata": {
    "collapsed": false
   },
   "outputs": [
    {
     "ename": "TypeError",
     "evalue": "Required argument 'object' (pos 1) not found",
     "output_type": "error",
     "traceback": [
      "\u001b[1;31m---------------------------------------------------------------------------\u001b[0m",
      "\u001b[1;31mTypeError\u001b[0m                                 Traceback (most recent call last)",
      "\u001b[1;32m<ipython-input-123-ed2036628ee1>\u001b[0m in \u001b[0;36m<module>\u001b[1;34m()\u001b[0m\n\u001b[0;32m      1\u001b[0m \u001b[1;31m## Get neural responses to hues\u001b[0m\u001b[1;33m\u001b[0m\u001b[1;33m\u001b[0m\u001b[0m\n\u001b[1;32m----> 2\u001b[1;33m \u001b[0mhue_responses\u001b[0m \u001b[1;33m=\u001b[0m \u001b[0mnp\u001b[0m\u001b[1;33m.\u001b[0m\u001b[0marray\u001b[0m\u001b[1;33m(\u001b[0m\u001b[1;33m)\u001b[0m\u001b[1;33m\u001b[0m\u001b[0m\n\u001b[0m\u001b[0;32m      3\u001b[0m \u001b[1;32mfor\u001b[0m \u001b[0mneuron_id\u001b[0m\u001b[1;33m,\u001b[0m \u001b[0mneuron_name\u001b[0m \u001b[1;32min\u001b[0m \u001b[0menumerate\u001b[0m\u001b[1;33m(\u001b[0m\u001b[0mdf_neurons\u001b[0m\u001b[1;33m[\u001b[0m\u001b[1;34m'name'\u001b[0m\u001b[1;33m]\u001b[0m\u001b[1;33m)\u001b[0m\u001b[1;33m:\u001b[0m\u001b[1;33m\u001b[0m\u001b[0m\n\u001b[0;32m      4\u001b[0m \u001b[1;33m\u001b[0m\u001b[0m\n\u001b[0;32m      5\u001b[0m     \u001b[0mart_sessions_of_interest\u001b[0m \u001b[1;33m=\u001b[0m \u001b[0mdf_neurons\u001b[0m\u001b[1;33m.\u001b[0m\u001b[0mloc\u001b[0m\u001b[1;33m[\u001b[0m\u001b[0mneuron_id\u001b[0m\u001b[1;33m]\u001b[0m\u001b[1;33m[\u001b[0m\u001b[1;34m'art_sessions'\u001b[0m\u001b[1;33m]\u001b[0m\u001b[1;33m\u001b[0m\u001b[0m\n",
      "\u001b[1;31mTypeError\u001b[0m: Required argument 'object' (pos 1) not found"
     ]
    }
   ],
   "source": [
    "## Get neural responses to hues\n",
    "hue_responses = np.array()\n",
    "for neuron_id, neuron_name in enumerate(df_neurons['name']):\n",
    "\n",
    "    art_sessions_of_interest = df_neurons.loc[neuron_id]['art_sessions']\n",
    "    df_sessions_of_interest = df.loc[df['session.number'].isin(art_sessions_of_interest)]\n",
    "    Y = df_sessions_of_interest[neuron_name].values\n",
    "    np.concatenate(hue_responses,Y)\n",
    "    \n",
    "    hues = df_sessions_of_interest['predictors.hue'].values\n",
    "    \n"
   ]
  },
  {
   "cell_type": "code",
   "execution_count": 124,
   "metadata": {
    "collapsed": false
   },
   "outputs": [
    {
     "data": {
      "text/plain": [
       "(90,)"
      ]
     },
     "execution_count": 124,
     "metadata": {},
     "output_type": "execute_result"
    }
   ],
   "source": [
    "hue_responses.shape"
   ]
  },
  {
   "cell_type": "markdown",
   "metadata": {},
   "source": [
    "### Build VGG model"
   ]
  },
  {
   "cell_type": "code",
   "execution_count": 3,
   "metadata": {
    "collapsed": false
   },
   "outputs": [],
   "source": [
    "vgg_model_l7= V4.vgg_transfer_ari(n_pops=1,\n",
    "                      verbose=0)"
   ]
  },
  {
   "cell_type": "markdown",
   "metadata": {},
   "source": [
    "### Compute codebooks for artificial stimuli and visualize low-d manifold\n",
    "\n",
    "#### Get VGG features"
   ]
  },
  {
   "cell_type": "code",
   "execution_count": 4,
   "metadata": {
    "collapsed": false
   },
   "outputs": [
    {
     "name": "stderr",
     "output_type": "stream",
     "text": [
      "360it [00:11, 41.39it/s]\n"
     ]
    }
   ],
   "source": [
    "hue = np.linspace(0, 359, 360)\n",
    "rgb_list = list()\n",
    "\n",
    "Xplain_vgg = list()\n",
    "stimpath = '../V4pydata'\n",
    "\n",
    "#for stim_id in range(360):\n",
    "for a, ang in V4.tqdm(enumerate(hue)):\n",
    "    imname = '/stimuli/M3/Hues/img%03d.jpg' % np.floor(ang)\n",
    "    filename = stimpath + imname\n",
    "    I = V4.load_and_preprocess_ari(filename)\n",
    "    rgb_list.append(np.round(I[0,0,0,:][::-1]+[103.939,116.779,123.68][::-1]))\n",
    "\n",
    "    Xplain_vgg.append(np.squeeze(vgg_model_l7.predict(I)))\n",
    "Xplain_vgg = np.array(Xplain_vgg)"
   ]
  },
  {
   "cell_type": "markdown",
   "metadata": {},
   "source": [
    "### Perform low-d embedding"
   ]
  },
  {
   "cell_type": "code",
   "execution_count": 129,
   "metadata": {
    "collapsed": true
   },
   "outputs": [],
   "source": [
    "se = SpectralEmbedding(n_components=2)\n",
    "X_lowd = se.fit_transform(Xplain_vgg)"
   ]
  },
  {
   "cell_type": "code",
   "execution_count": 130,
   "metadata": {
    "collapsed": false,
    "scrolled": true
   },
   "outputs": [
    {
     "data": {
      "image/png": "[encoded data removed]",
      "text/plain": [
       "<matplotlib.figure.Figure at 0x7ffa57fd30d0>"
      ]
     },
     "metadata": {},
     "output_type": "display_data"
    }
   ],
   "source": [
    "plt.figure()\n",
    "ax = plt.subplot(111)\n",
    "for im in range(X_lowd.shape[0]):\n",
    "    ax.plot(X_lowd[im, 0], X_lowd[im, 1], 'o', ms=10, c=rgb_list[im].astype(float) / 255.0)\n",
    "V4.simpleaxis(ax)\n",
    "plt.show()"
   ]
  },
  {
   "cell_type": "markdown",
   "metadata": {},
   "source": [
    "#### Build RDM matrix\n",
    "\n",
    "Should each example should be in range 0-1, 0 being identical and 1 being maximally different?"
   ]
  },
  {
   "cell_type": "code",
   "execution_count": 70,
   "metadata": {
    "collapsed": false
   },
   "outputs": [
    {
     "data": {
      "text/plain": [
       "<matplotlib.image.AxesImage at 0x7ffa6438c2d0>"
      ]
     },
     "execution_count": 70,
     "metadata": {},
     "output_type": "execute_result"
    },
    {
     "data": {
      "image/png": "[encoded data removed]",
      "text/plain": [
       "<matplotlib.figure.Figure at 0x7ffa7d24c990>"
      ]
     },
     "metadata": {},
     "output_type": "display_data"
    }
   ],
   "source": [
    "rdm_response = np.dot(X_lowd,X_lowd.transpose())\n",
    "plt.subplot(121)\n",
    "plt.imshow(rdm_response,interpolation='none')\n",
    "\n",
    "\n",
    "\n",
    "plt.subplot(122)\n",
    "dist_matrix = np.zeros((360,360))\n",
    "for a in range(360):\n",
    "    for b in range(a,360):\n",
    "        diff = 1-(b-a)/360.\n",
    "        dist_matrix[a,b] = dist_matrix[b,a] = diff\n",
    "        \n",
    "chord_length_mat = -2*np.sin(np.pi*(1-dist_matrix-.5))\n",
    "plt.imshow(chord_length_mat,interpolation='none')\n",
    "\n"
   ]
  },
  {
   "cell_type": "markdown",
   "metadata": {},
   "source": [
    "Build a general method for printing the correlation given data matrix"
   ]
  },
  {
   "cell_type": "code",
   "execution_count": 105,
   "metadata": {
    "collapsed": false
   },
   "outputs": [],
   "source": [
    "from scipy.stats import kendalltau as kt\n",
    "#scipy.stats.weightedtau\n",
    "\n",
    "def vectorize(mat):\n",
    "    \"\"\"Takes a square symmetric matrix mat and returns the vectorized form. Like matlab's squareform\"\"\"\n",
    "    assert mat.shape[0]==mat.shape[1]\n",
    "    \n",
    "    vec = mat[:,0]\n",
    "    for row in range(1,mat.shape[1]):\n",
    "        vec = np.concatenate((vec,mat[row:,row]))\n",
    "    \n",
    "    return vec\n",
    "\n",
    "def RDM_corr(datas, hues = False, method = 'correlation'):\n",
    "    \"\"\"Returns a symmetric matrix with the correlation between RDMs \n",
    "    corresponding to the data matrices in datas\n",
    "    \n",
    "    datas = list of high-dimensional data arrays\n",
    "    hues = boolean, whether to include an artificial 'Hue similarity' matrix\n",
    "    method = {'correlation','MDS','SE'}\n",
    "                \"\"\"\n",
    "    assert isinstance(datas,list)\n",
    "    \n",
    "    RDMs = list()\n",
    "    \n",
    "    if method is 'correlation':\n",
    "        embed = lambda x: np.corrcoef(x)\n",
    "    elif method is 'SE':\n",
    "        embed = SpectralEmbedding(n_components=2)\n",
    "    elif method is 'MDS':\n",
    "        embed = MDS(n_components=2)\n",
    "    else:\n",
    "        raise NotImplemented\n",
    "    \n",
    "    # get low-D representations\n",
    "    for data in datas:\n",
    "        if method is 'correlation':\n",
    "            rdm_response = np.corrcoef(data)\n",
    "        else:\n",
    "            X_lowd = embed.fit_transform(Xplain_vgg)\n",
    "            rdm_response = np.dot(X_lowd,X_lowd.transpose())\n",
    "            \n",
    "        RDMs.append(vectorize(rdm_response))\n",
    "    \n",
    "    if hues:\n",
    "        dist_matrix = np.zeros((360,360))\n",
    "        for a in range(360):\n",
    "            for b in range(a,360):\n",
    "                diff = 1-(b-a)/360.\n",
    "                dist_matrix[a,b] = dist_matrix[b,a] = diff\n",
    "        RDMs.append(vectorize(dist_matrix)) \n",
    "    \n",
    "    ks = np.ones((len(RDMs),len(RDMs)))\n",
    "    \n",
    "    for a in range(len(RDMs)):\n",
    "        for b in range(a,len(RDMs)):\n",
    "            k = kt(RDMs[a],RDMs[b]).correlation\n",
    "            ks[a,b] = ks[b,a] = k\n",
    "            \n",
    "    return ks"
   ]
  },
  {
   "cell_type": "code",
   "execution_count": 106,
   "metadata": {
    "collapsed": false
   },
   "outputs": [
    {
     "data": {
      "text/plain": [
       "array([[ 1.        ,  0.28508253],\n",
       "       [ 0.28508253,  1.        ]])"
      ]
     },
     "execution_count": 106,
     "metadata": {},
     "output_type": "execute_result"
    }
   ],
   "source": [
    "RDM_corr([Xplain_vgg],hues = True, method = 'correlation')"
   ]
  },
  {
   "cell_type": "code",
   "execution_count": 131,
   "metadata": {
    "collapsed": false
   },
   "outputs": [
    {
     "data": {
      "text/plain": [
       "27.0"
      ]
     },
     "execution_count": 131,
     "metadata": {},
     "output_type": "execute_result"
    }
   ],
   "source": [
    "3+3+.25*9+3+.75*9+3+6"
   ]
  },
  {
   "cell_type": "code",
   "execution_count": null,
   "metadata": {
    "collapsed": true
   },
   "outputs": [],
   "source": []
  }
 ],
 "metadata": {
  "kernelspec": {
   "display_name": "Python [Root]",
   "language": "python",
   "name": "Python [Root]"
  },
  "language_info": {
   "codemirror_mode": {
    "name": "ipython",
    "version": 2
   },
   "file_extension": ".py",
   "mimetype": "text/x-python",
   "name": "python",
   "nbconvert_exporter": "python",
   "pygments_lexer": "ipython2",
   "version": "2.7.12"
  }
 },
 "nbformat": 4,
 "nbformat_minor": 0
}
