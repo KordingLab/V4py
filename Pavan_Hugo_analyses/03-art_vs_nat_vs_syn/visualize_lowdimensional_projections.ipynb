{
 "cells": [
  {
   "cell_type": "markdown",
   "metadata": {},
   "source": [
    "# Visualize low dimensional projections of CNN codebooks"
   ]
  },
  {
   "cell_type": "markdown",
   "metadata": {},
   "source": [
    "### Imports"
   ]
  },
  {
   "cell_type": "code",
   "execution_count": 1,
   "metadata": {
    "collapsed": false
   },
   "outputs": [
    {
     "name": "stdout",
     "output_type": "stream",
     "text": [
      "Once deleted, variables cannot be recovered. Proceed (y/[n])? \n",
      "Nothing done.\n"
     ]
    }
   ],
   "source": [
    "%reset"
   ]
  },
  {
   "cell_type": "code",
   "execution_count": 2,
   "metadata": {
    "collapsed": false
   },
   "outputs": [
    {
     "name": "stderr",
     "output_type": "stream",
     "text": [
      "/opt/anaconda/anaconda2/lib/python2.7/site-packages/sklearn/cross_validation.py:44: DeprecationWarning: This module was deprecated in version 0.18 in favor of the model_selection module into which all the refactored classes and functions are moved. Also note that the interface of the new CV iterators are different from that of this module. This module will be removed in 0.20.\n",
      "  \"This module will be removed in 0.20.\", DeprecationWarning)\n",
      "Using Theano backend.\n",
      "WARNING (theano.sandbox.cuda): The cuda backend is deprecated and will be removed in the next release.  Please switch to the gpuarray backend. You can get more information about how to switch at this URL:\n",
      " https://github.com/Theano/Theano/wiki/Converting-to-the-new-gpu-back-end%28gpuarray%29\n",
      "\n",
      "Using gpu device 3: GeForce GTX TITAN X (CNMeM is disabled, cuDNN 5103)\n"
     ]
    }
   ],
   "source": [
    "# compute\n",
    "import numpy as np\n",
    "import pandas as pd\n",
    "\n",
    "# data io\n",
    "import glob\n",
    "import deepdish as dd\n",
    "import sys\n",
    "sys.path.append('../')\n",
    "\n",
    "# image\n",
    "import cv2\n",
    "\n",
    "# plot\n",
    "import matplotlib.pyplot as plt\n",
    "%matplotlib inline\n",
    "\n",
    "# spykes\n",
    "from spykes.neuropop import NeuroPop\n",
    "from spykes.neurovis import NeuroVis\n",
    "\n",
    "# stats\n",
    "from scipy.stats import circmean\n",
    "\n",
    "# machine learning\n",
    "import xgboost as xgb\n",
    "\n",
    "# local\n",
    "import V4pyutils as V4"
   ]
  },
  {
   "cell_type": "markdown",
   "metadata": {},
   "source": [
    "### Instantiate vgg models"
   ]
  },
  {
   "cell_type": "code",
   "execution_count": 22,
   "metadata": {
    "collapsed": false
   },
   "outputs": [
    {
     "name": "stderr",
     "output_type": "stream",
     "text": [
      "/opt/anaconda/anaconda2/lib/python2.7/site-packages/keras/layers/core.py:622: UserWarning: `output_shape` argument not specified for layer lambda_4 and cannot be automatically inferred with the Theano backend. Defaulting to output shape `(None, 1000)` (same as input shape). If the expected output shape is different, specify it via the `output_shape` argument.\n",
      "  .format(self.name, input_shape))\n"
     ]
    }
   ],
   "source": [
    "vgg_model = V4.transfer_learning(architecture_file='../02-preprocessed_data/vgg16_architecture.json',\n",
    "                                 weights_file='../02-preprocessed_data/vgg16_weights.h5',\n",
    "                                 n_pops=0)\n",
    "#vgg_model = V4.transfer_learning(architecture_file='../02-preprocessed_data/vgg16_architecture.json',\n",
    "#                                 weights_file='../02-preprocessed_data/vgg16_weights.h5',\n",
    "#                                 n_pops=1)\n",
    "#vgg_model = V4.transfer_learning(architecture_file='../02-preprocessed_data/vgg16_architecture.json',\n",
    "#                                 weights_file='../02-preprocessed_data/vgg16_weights.h5',\n",
    "#                                 n_pops=3)\n",
    "#vgg_model = V4.transfer_learning(architecture_file='../02-preprocessed_data/vgg16_architecture.json',\n",
    "#                                 weights_file='../02-preprocessed_data/vgg16_weights.h5',\n",
    "#                                 n_pops=5)\n"
   ]
  },
  {
   "cell_type": "markdown",
   "metadata": {},
   "source": [
    "### Compute codebooks for artificial stimuli and visualize low-d manifold"
   ]
  },
  {
   "cell_type": "code",
   "execution_count": 23,
   "metadata": {
    "collapsed": true
   },
   "outputs": [],
   "source": [
    "from sklearn.manifold import TSNE, MDS, SpectralEmbedding"
   ]
  },
  {
   "cell_type": "markdown",
   "metadata": {},
   "source": [
    "### Hue"
   ]
  },
  {
   "cell_type": "markdown",
   "metadata": {},
   "source": [
    "#### Codebook"
   ]
  },
  {
   "cell_type": "code",
   "execution_count": 24,
   "metadata": {
    "collapsed": true
   },
   "outputs": [],
   "source": [
    "hue = np.linspace(0, 359, 360)\n",
    "rgb_list = list()\n",
    "\n",
    "Xplain_vgg = list()\n",
    "stimpath = '../V4pydata'\n",
    "\n",
    "#for stim_id in range(360):\n",
    "for a, ang in enumerate(hue):\n",
    "    imname = '/stimuli/M3/Hues/img%03d.jpg' % np.floor(ang)\n",
    "    filename = stimpath + imname\n",
    "    I = cv2.imread(filename)\n",
    "    I_for_vgg = V4.prepare_image_for_vgg(I)\n",
    "    rgb_list.append(I[0,0,:][::-1])\n",
    "    Xplain_vgg.append(np.squeeze(vgg_model.predict(I_for_vgg)))\n",
    "Xplain_vgg = np.array(Xplain_vgg)"
   ]
  },
  {
   "cell_type": "code",
   "execution_count": 25,
   "metadata": {
    "collapsed": false
   },
   "outputs": [
    {
     "data": {
      "text/plain": [
       "(360, 1000)"
      ]
     },
     "execution_count": 25,
     "metadata": {},
     "output_type": "execute_result"
    }
   ],
   "source": [
    "Xplain_vgg.shape"
   ]
  },
  {
   "cell_type": "markdown",
   "metadata": {},
   "source": [
    "#### Visualize"
   ]
  },
  {
   "cell_type": "code",
   "execution_count": 26,
   "metadata": {
    "collapsed": true
   },
   "outputs": [],
   "source": [
    "se = SpectralEmbedding(n_components=2)\n",
    "X_lowd = se.fit_transform(Xplain_vgg)"
   ]
  },
  {
   "cell_type": "code",
   "execution_count": 27,
   "metadata": {
    "collapsed": false
   },
   "outputs": [
    {
     "data": {
      "image/png": "[encoded data removed]",
      "text/plain": [
       "<matplotlib.figure.Figure at 0x7f2658aad910>"
      ]
     },
     "metadata": {},
     "output_type": "display_data"
    }
   ],
   "source": [
    "plt.figure()\n",
    "ax = plt.subplot(111)\n",
    "for im in range(X_lowd.shape[0]):\n",
    "    ax.plot(X_lowd[im, 0], X_lowd[im, 1], 'o', ms=10, c=rgb_list[im].astype(float) / 255.0)\n",
    "V4.simpleaxis(ax)\n",
    "plt.savefig('L8_hue_embedding.pdf', format='pdf')\n",
    "plt.show()"
   ]
  },
  {
   "cell_type": "markdown",
   "metadata": {},
   "source": [
    "### Orientation"
   ]
  },
  {
   "cell_type": "markdown",
   "metadata": {},
   "source": [
    "#### Codebook"
   ]
  },
  {
   "cell_type": "code",
   "execution_count": 9,
   "metadata": {
    "collapsed": true
   },
   "outputs": [],
   "source": [
    "def make_sine_grating(n_pixels=224, theta=0, spatial_freq=0.03, phase=0):\n",
    "    \n",
    "    # Design the grating\n",
    "    [x, y] = np.meshgrid(np.arange(n_pixels), np.arange(n_pixels))\n",
    "    theta = 180. - theta\n",
    "    x_theta = x * np.cos(theta / 180. * np.pi) + y * np.sin(theta / 180. * np.pi)\n",
    "    y_theta = -x * np.sin(theta / 180. * np.pi) + y * np.cos(theta / 180. * np.pi)\n",
    "    grating = (1. + np.cos(2 * np.pi * spatial_freq * x_theta + phase / 180. * np.pi))/ 2.\n",
    "    \n",
    "    # Make it into an image\n",
    "    G = np.zeros((n_pixels, n_pixels, 3))\n",
    "    G[:, :, 0] = grating * 255.\n",
    "    G[:, :, 1] = grating * 255.\n",
    "    G[:, :, 2] = grating * 255.    \n",
    "    return np.uint8(G)"
   ]
  },
  {
   "cell_type": "code",
   "execution_count": 10,
   "metadata": {
    "collapsed": true
   },
   "outputs": [],
   "source": [
    "ori = np.linspace(0., 179., 180)\n",
    "rgb_list_ori = list()\n",
    "Xgrating_vgg = list()\n",
    "# Extract vgg features for oriented gratings\n",
    "Xgrating_vgg = list()\n",
    "for a, ang in enumerate(ori):\n",
    "    G = make_sine_grating(theta=ang, phase=0.)\n",
    "    G_for_vgg = V4.prepare_image_for_vgg(G)\n",
    "    Xgrating_vgg.append(np.squeeze(vgg_model.predict(G_for_vgg)))\n",
    "    rgb_list_ori.append(rgb_list[2 * a])\n",
    "Xgrating_vgg = np.array(Xgrating_vgg)"
   ]
  },
  {
   "cell_type": "code",
   "execution_count": 11,
   "metadata": {
    "collapsed": false
   },
   "outputs": [
    {
     "data": {
      "text/plain": [
       "(180, 25088)"
      ]
     },
     "execution_count": 11,
     "metadata": {},
     "output_type": "execute_result"
    }
   ],
   "source": [
    "Xgrating_vgg.shape"
   ]
  },
  {
   "cell_type": "code",
   "execution_count": 12,
   "metadata": {
    "collapsed": false
   },
   "outputs": [
    {
     "data": {
      "text/plain": [
       "180"
      ]
     },
     "execution_count": 12,
     "metadata": {},
     "output_type": "execute_result"
    }
   ],
   "source": [
    "len(rgb_list_ori)"
   ]
  },
  {
   "cell_type": "markdown",
   "metadata": {},
   "source": [
    "#### Visualize"
   ]
  },
  {
   "cell_type": "code",
   "execution_count": 13,
   "metadata": {
    "collapsed": true
   },
   "outputs": [],
   "source": [
    "se = SpectralEmbedding(n_components=2)\n",
    "X_lowd = se.fit_transform(Xgrating_vgg)"
   ]
  },
  {
   "cell_type": "code",
   "execution_count": 14,
   "metadata": {
    "collapsed": false
   },
   "outputs": [
    {
     "data": {
      "image/png": "[encoded data removed]",
      "text/plain": [
       "<matplotlib.figure.Figure at 0x7ff119a4fe50>"
      ]
     },
     "metadata": {},
     "output_type": "display_data"
    }
   ],
   "source": [
    "plt.figure()\n",
    "ax = plt.subplot(111)\n",
    "for im in range(X_lowd.shape[0]):\n",
    "    ax.plot(X_lowd[im, 0], X_lowd[im, 1], 'o', ms=10, c=rgb_list_ori[im].astype(float) / 255.0)\n",
    "V4.simpleaxis(ax)\n",
    "#plt.axis([-50, 50, -50, 50])\n",
    "plt.show()"
   ]
  },
  {
   "cell_type": "code",
   "execution_count": null,
   "metadata": {
    "collapsed": true
   },
   "outputs": [],
   "source": []
  }
 ],
 "metadata": {
  "kernelspec": {
   "display_name": "Python [Root]",
   "language": "python",
   "name": "Python [Root]"
  },
  "language_info": {
   "codemirror_mode": {
    "name": "ipython",
    "version": 2
   },
   "file_extension": ".py",
   "mimetype": "text/x-python",
   "name": "python",
   "nbconvert_exporter": "python",
   "pygments_lexer": "ipython2",
   "version": "2.7.12"
  }
 },
 "nbformat": 4,
 "nbformat_minor": 0
}
