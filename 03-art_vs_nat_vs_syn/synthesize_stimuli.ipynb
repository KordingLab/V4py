{
 "cells": [
  {
   "cell_type": "markdown",
   "metadata": {},
   "source": [
    "## Imports"
   ]
  },
  {
   "cell_type": "code",
   "execution_count": 1,
   "metadata": {
    "collapsed": false
   },
   "outputs": [
    {
     "name": "stdout",
     "output_type": "stream",
     "text": [
      "Once deleted, variables cannot be recovered. Proceed (y/[n])? y\n"
     ]
    }
   ],
   "source": [
    "% reset"
   ]
  },
  {
   "cell_type": "code",
   "execution_count": 2,
   "metadata": {
    "collapsed": false
   },
   "outputs": [
    {
     "name": "stderr",
     "output_type": "stream",
     "text": [
      "/opt/anaconda/anaconda2/lib/python2.7/site-packages/sklearn/cross_validation.py:44: DeprecationWarning: This module was deprecated in version 0.18 in favor of the model_selection module into which all the refactored classes and functions are moved. Also note that the interface of the new CV iterators are different from that of this module. This module will be removed in 0.20.\n",
      "  \"This module will be removed in 0.20.\", DeprecationWarning)\n",
      "Using Theano backend.\n",
      "Using gpu device 0: GeForce GTX TITAN X (CNMeM is disabled, cuDNN 5103)\n",
      "/opt/anaconda/anaconda2/lib/python2.7/site-packages/theano/sandbox/cuda/__init__.py:600: UserWarning: Your cuDNN version is more recent than the one Theano officially supports. If you see any problems, try updating Theano or downgrading cuDNN to version 5.\n",
      "  warnings.warn(warn)\n"
     ]
    }
   ],
   "source": [
    "# compute\n",
    "import numpy as np\n",
    "import pandas as pd\n",
    "\n",
    "# data io\n",
    "import glob\n",
    "import deepdish as dd\n",
    "import sys\n",
    "sys.path.append('../')\n",
    "\n",
    "# image\n",
    "import cv2\n",
    "\n",
    "# plot\n",
    "import matplotlib.pyplot as plt\n",
    "%matplotlib inline\n",
    "\n",
    "# spykes\n",
    "from spykes.neuropop import NeuroPop\n",
    "from spykes.neurovis import NeuroVis\n",
    "\n",
    "# stats\n",
    "from scipy.stats import circmean\n",
    "\n",
    "# machine learning\n",
    "import xgboost as xgb\n",
    "\n",
    "# local\n",
    "import V4pyutils as V4"
   ]
  },
  {
   "cell_type": "markdown",
   "metadata": {},
   "source": [
    "## Oriented gratings"
   ]
  },
  {
   "cell_type": "code",
   "execution_count": 4,
   "metadata": {
    "collapsed": true
   },
   "outputs": [],
   "source": [
    "def make_sine_grating(n_cols=1024, n_rows=768, theta=0, spatial_freq=0.03, phase=0):\n",
    "    \n",
    "    # Design the grating\n",
    "    [x, y] = np.meshgrid(np.arange(n_cols), np.arange(n_rows))\n",
    "    theta = 90. - theta\n",
    "    x_theta = x * np.cos(theta / 180. * np.pi) + y * np.sin(theta / 180. * np.pi)\n",
    "    y_theta = -x * np.sin(theta / 180. * np.pi) + y * np.cos(theta / 180. * np.pi)\n",
    "    grating = (1. + np.cos(2 * np.pi * spatial_freq * x_theta + phase / 180. * np.pi))/ 2.\n",
    "    \n",
    "    # Make it into an image\n",
    "    G = np.zeros((n_rows, n_cols, 3))\n",
    "    G[:, :, 0] = grating * 255.\n",
    "    G[:, :, 1] = grating * 255.\n",
    "    G[:, :, 2] = grating * 255.    \n",
    "    return np.uint8(G)"
   ]
  },
  {
   "cell_type": "code",
   "execution_count": 5,
   "metadata": {
    "collapsed": false
   },
   "outputs": [],
   "source": [
    "ori = np.linspace(0., 179., 180)\n",
    "rgb_list_ori = list()\n",
    "Xgrating_vgg = list()\n",
    "# Extract vgg features for oriented gratings\n",
    "Xgrating_vgg = list()\n",
    "for a, ang in enumerate(ori):\n",
    "    G = make_sine_grating(theta=ang, phase=0.)\n",
    "    cv2.imwrite('../V4pydata/stimuli/M4/Ori/img'+str(int(ang)).zfill(3)+'.jpg', G)\n",
    "    #plt.imshow(G)\n",
    "    #plt.show()"
   ]
  },
  {
   "cell_type": "code",
   "execution_count": 27,
   "metadata": {
    "collapsed": false
   },
   "outputs": [
    {
     "data": {
      "text/plain": [
       "True"
      ]
     },
     "execution_count": 27,
     "metadata": {},
     "output_type": "execute_result"
    }
   ],
   "source": [
    "cv2.imwrite('../V4pydata/stimuli/M4/Ori/img'+str(int(ang)).zfill(3)+'.jpg', G)"
   ]
  },
  {
   "cell_type": "code",
   "execution_count": 20,
   "metadata": {
    "collapsed": false
   },
   "outputs": [
    {
     "data": {
      "text/plain": [
       "'005'"
      ]
     },
     "execution_count": 20,
     "metadata": {},
     "output_type": "execute_result"
    }
   ],
   "source": [
    "str(5).zfill(3)"
   ]
  },
  {
   "cell_type": "code",
   "execution_count": 26,
   "metadata": {
    "collapsed": false
   },
   "outputs": [
    {
     "data": {
      "text/plain": [
       "'../V4pydata/stimuli/M3/Ori/img179.jpg'"
      ]
     },
     "execution_count": 26,
     "metadata": {},
     "output_type": "execute_result"
    }
   ],
   "source": [
    "'../V4pydata/stimuli/M3/Ori/img'+str(int(ang)).zfill(3)+'.jpg'"
   ]
  },
  {
   "cell_type": "markdown",
   "metadata": {},
   "source": [
    "## Color constancy and contrast"
   ]
  },
  {
   "cell_type": "code",
   "execution_count": null,
   "metadata": {
    "collapsed": true
   },
   "outputs": [],
   "source": []
  }
 ],
 "metadata": {
  "kernelspec": {
   "display_name": "Python [Root]",
   "language": "python",
   "name": "Python [Root]"
  },
  "language_info": {
   "codemirror_mode": {
    "name": "ipython",
    "version": 2
   },
   "file_extension": ".py",
   "mimetype": "text/x-python",
   "name": "python",
   "nbconvert_exporter": "python",
   "pygments_lexer": "ipython2",
   "version": "2.7.12"
  }
 },
 "nbformat": 4,
 "nbformat_minor": 0
}
