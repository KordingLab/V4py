{
 "cells": [
  {
   "cell_type": "code",
   "execution_count": 1,
   "metadata": {
    "collapsed": true
   },
   "outputs": [],
   "source": [
    "import numpy as np\n",
    "import scipy.io as io\n",
    "import h5py\n",
    "import deepdish as dd\n",
    "import dask.array as da\n",
    "import os "
   ]
  },
  {
   "cell_type": "markdown",
   "metadata": {},
   "source": [
    "### Read mat and write out as h5"
   ]
  },
  {
   "cell_type": "code",
   "execution_count": 43,
   "metadata": {
    "collapsed": false
   },
   "outputs": [],
   "source": [
    "matpath = '../../matdata/M1'\n",
    "h5path = '../../H5data/M1'\n",
    "fname = os.listdir(matpath)"
   ]
  },
  {
   "cell_type": "code",
   "execution_count": 44,
   "metadata": {
    "collapsed": false
   },
   "outputs": [
    {
     "name": "stdout",
     "output_type": "stream",
     "text": [
      "../../matdata/M1/bucky090910.mat\n"
     ]
    },
    {
     "data": {
      "text/plain": [
       "[u'#refs#', u'Eyes', u'Spikes']"
      ]
     },
     "execution_count": 44,
     "metadata": {},
     "output_type": "execute_result"
    }
   ],
   "source": [
    "# Get the file pointer\n",
    "thisfile = fname[0]\n",
    "print matpath+'/'+thisfile\n",
    "fid = h5py.File(matpath+'/'+thisfile)\n",
    "fid.keys()"
   ]
  },
  {
   "cell_type": "code",
   "execution_count": 45,
   "metadata": {
    "collapsed": false
   },
   "outputs": [
    {
     "name": "stdout",
     "output_type": "stream",
     "text": [
      "{'imname': 'blackscene.jpg', 'fix_offset': 93.637, 'fixation': 2, 'out_sac_dur': 0.043000000000000003, 'col': 1093.0, 'trial': 1, 'in_sac_dur': 0.035000000000000003, 'fix_onset': 93.385999999999996, 'impath': 'stimuli/M1/scenes', 'row': 1018.0}\n"
     ]
    }
   ],
   "source": [
    "# Convert Eyes struct to dict\n",
    "eyes_object = fid['Eyes']\n",
    "trial_object = eyes_object['trial']\n",
    "impath_object = eyes_object['impath']\n",
    "imname_object = eyes_object['imname']\n",
    "fixation_object = eyes_object['fixation']\n",
    "in_sac_dur_object = eyes_object['in_sac_dur']\n",
    "out_sac_dur_object = eyes_object['out_sac_dur']\n",
    "fix_onset_object = eyes_object['fix_onset']\n",
    "fix_offset_object = eyes_object['fix_offset']\n",
    "row_object = eyes_object['row']\n",
    "col_object = eyes_object['col']\n",
    "\n",
    "eyes = {}\n",
    "for c in range(trial_object.size):\n",
    "    # Get all the data for this struct element\n",
    "    trial = int(np.array(fid[trial_object[c,0]])[0][0])\n",
    "    impath = ''.join(chr(i) for i in fid[impath_object[c,0]])\n",
    "    imname = ''.join(chr(i) for i in fid[imname_object[c,0]])\n",
    "    fixation = int(np.array(fid[fixation_object[c,0]])[0][0])\n",
    "    in_sac_dur = np.array(fid[in_sac_dur_object[c,0]])[0][0]\n",
    "    out_sac_dur = np.array(fid[out_sac_dur_object[c,0]])[0][0]\n",
    "    fix_onset = np.array(fid[fix_onset_object[c,0]])[0][0]\n",
    "    fix_offset = np.array(fid[fix_offset_object[c,0]])[0][0]\n",
    "    row = np.array(fid[row_object[c,0]])[0][0]\n",
    "    col = np.array(fid[col_object[c,0]])[0][0]\n",
    "                         \n",
    "    # Create a dictionary for this element \n",
    "    this_dict = {}\n",
    "    this_dict['trial'] = trial\n",
    "    this_dict['impath'] = impath\n",
    "    this_dict['imname'] = imname\n",
    "    this_dict['fixation'] = fixation\n",
    "    this_dict['in_sac_dur'] = in_sac_dur\n",
    "    this_dict['out_sac_dur'] = out_sac_dur\n",
    "    this_dict['fix_onset'] = fix_onset\n",
    "    this_dict['fix_offset'] = fix_offset\n",
    "    this_dict['row'] = row\n",
    "    this_dict['col'] = col\n",
    "                         \n",
    "    eyes[c] = this_dict\n",
    "                         \n",
    "print eyes[1]"
   ]
  },
  {
   "cell_type": "code",
   "execution_count": null,
   "metadata": {
    "collapsed": true
   },
   "outputs": [],
   "source": []
  },
  {
   "cell_type": "code",
   "execution_count": 46,
   "metadata": {
    "collapsed": false
   },
   "outputs": [
    {
     "data": {
      "text/plain": [
       "array([ 50.9509    ,  51.11846667,  51.1258    ,  51.1906    ,\n",
       "        51.20433333,  51.2221    ,  51.23406667,  51.2408    ,\n",
       "        51.30686667,  51.31446667])"
      ]
     },
     "execution_count": 46,
     "metadata": {},
     "output_type": "execute_result"
    }
   ],
   "source": [
    "# Convert Spikes struct to dict\n",
    "spikes_object = fid['Spikes']\n",
    "unit_object = spikes_object['unit']\n",
    "times_object = spikes_object['times']\n",
    "\n",
    "spikes = {}\n",
    "for u in range(unit_object.size):\n",
    "    uu = np.array(fid[unit_object[u,0]])\n",
    "    tt = np.array(fid[times_object[u,0]])\n",
    "    channel = int(np.floor(uu[0][0]))\n",
    "    unit = int(10*(uu[0][0] - np.floor(uu[0][0])))\n",
    "    unitid = '{0:0=2d}'.format(channel)+'{0:0=2d}'.format(unit)\n",
    "    times = tt[0][:]\n",
    "    spikes[unitid] = times\n",
    "\n",
    "#for u in spikes:\n",
    "#    print u\n",
    "#    print spikes[u][:10]\n",
    "\n",
    "spikes['5401'][:10]"
   ]
  },
  {
   "cell_type": "code",
   "execution_count": null,
   "metadata": {
    "collapsed": true
   },
   "outputs": [],
   "source": []
  },
  {
   "cell_type": "code",
   "execution_count": 47,
   "metadata": {
    "collapsed": true
   },
   "outputs": [],
   "source": [
    "# Close the file\n",
    "fid.close()"
   ]
  },
  {
   "cell_type": "code",
   "execution_count": null,
   "metadata": {
    "collapsed": true
   },
   "outputs": [],
   "source": []
  },
  {
   "cell_type": "code",
   "execution_count": 49,
   "metadata": {
    "collapsed": false
   },
   "outputs": [
    {
     "name": "stdout",
     "output_type": "stream",
     "text": [
      "zlib\n"
     ]
    }
   ],
   "source": [
    "# Put everything into a bigger dict\n",
    "d = {}\n",
    "d['eyes'] = eyes\n",
    "d['spikes'] = spikes\n",
    "\n",
    "# Save it using deepdish\n",
    "dd.io.save(h5path+'/'+thisfile, d)"
   ]
  },
  {
   "cell_type": "code",
   "execution_count": 50,
   "metadata": {
    "collapsed": false
   },
   "outputs": [],
   "source": []
  },
  {
   "cell_type": "code",
   "execution_count": null,
   "metadata": {
    "collapsed": false
   },
   "outputs": [],
   "source": []
  },
  {
   "cell_type": "code",
   "execution_count": null,
   "metadata": {
    "collapsed": true
   },
   "outputs": [],
   "source": []
  }
 ],
 "metadata": {
  "kernelspec": {
   "display_name": "Python 2",
   "language": "python",
   "name": "python2"
  },
  "language_info": {
   "codemirror_mode": {
    "name": "ipython",
    "version": 2
   },
   "file_extension": ".py",
   "mimetype": "text/x-python",
   "name": "python",
   "nbconvert_exporter": "python",
   "pygments_lexer": "ipython2",
   "version": "2.7.11"
  }
 },
 "nbformat": 4,
 "nbformat_minor": 0
}
