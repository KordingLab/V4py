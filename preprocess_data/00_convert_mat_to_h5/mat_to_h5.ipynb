{
 "cells": [
  {
   "cell_type": "code",
   "execution_count": 1,
   "metadata": {
    "collapsed": true
   },
   "outputs": [],
   "source": [
    "import numpy as np\n",
    "import scipy.io as io\n",
    "import h5py\n",
    "import deepdish as dd\n",
    "import dask.array as da\n",
    "import os"
   ]
  },
  {
   "cell_type": "markdown",
   "metadata": {},
   "source": [
    "### Read mat and write out as h5"
   ]
  },
  {
   "cell_type": "code",
   "execution_count": 2,
   "metadata": {},
   "outputs": [],
   "source": [
    "matpath = '../../matdata/M2'\n",
    "h5path = '../../H5data/M2'\n",
    "fname = os.listdir(matpath)"
   ]
  },
  {
   "cell_type": "code",
   "execution_count": 38,
   "metadata": {},
   "outputs": [
    {
     "name": "stdout",
     "output_type": "stream",
     "text": [
      "../../matdata/M2/Bo130829_s94a_v4fv_randlum_0006_nev.mat\n"
     ]
    },
    {
     "data": {
      "text/plain": [
       "[u'#refs#', u'Eyes', u'Spikes']"
      ]
     },
     "execution_count": 38,
     "metadata": {},
     "output_type": "execute_result"
    }
   ],
   "source": [
    "# Get the file pointer\n",
    "thisfile = fname[6]\n",
    "print matpath+'/'+thisfile\n",
    "fid = h5py.File(matpath+'/'+thisfile)\n",
    "fid.keys()"
   ]
  },
  {
   "cell_type": "code",
   "execution_count": 39,
   "metadata": {},
   "outputs": [
    {
     "name": "stdout",
     "output_type": "stream",
     "text": [
      "{'fix_offset_col': 196.0, 'in_sac_blink': 0, 'imname': '0146.jpg', 'fix_onset_row': -9.0, 'fix_offset': 5211.4580000000005, 'fixation': 2, 'out_sac_blink': 0, 'out_sac_dur': 0.045999999999999999, 'col': 196.0, 'trial': 1399, 'out_sac_pkvel': 40.844739807535724, 'in_sac_dur': 0.044999999999999998, 'fix_onset': 5211.3670000000002, 'fix_offset_row': -18.0, 'in_sac_pkvel': 53.64297333525456, 'fix_onset_col': 192.0, 'badfix': 0, 'impath': 'stimuli/M2/RandLum', 'row': -16.0}\n"
     ]
    }
   ],
   "source": [
    "# Convert Eyes struct to dict\n",
    "eyes_object = fid['Eyes']\n",
    "\n",
    "trial_object = eyes_object['trial']\n",
    "impath_object = eyes_object['impath']\n",
    "imname_object = eyes_object['imname']\n",
    "\n",
    "fixation_object = eyes_object['fixation']\n",
    "\n",
    "in_sac_dur_object = eyes_object['in_sac_dur']\n",
    "in_sac_pkvel_object = eyes_object['in_sac_pkvel']\n",
    "in_sac_blink_object = eyes_object['in_sac_blink']\n",
    "\n",
    "out_sac_dur_object = eyes_object['out_sac_dur']\n",
    "out_sac_pkvel_object = eyes_object['out_sac_pkvel']\n",
    "out_sac_blink_object = eyes_object['out_sac_blink']\n",
    "\n",
    "fix_onset_object = eyes_object['fix_onset']\n",
    "fix_offset_object = eyes_object['fix_offset']\n",
    "\n",
    "row_object = eyes_object['row']\n",
    "col_object = eyes_object['col']\n",
    "fix_onset_row_object = eyes_object['fix_onset_row']\n",
    "fix_onset_col_object = eyes_object['fix_onset_col']\n",
    "fix_offset_row_object = eyes_object['fix_offset_row']\n",
    "fix_offset_col_object = eyes_object['fix_offset_col']\n",
    "\n",
    "badfix_object = eyes_object['badfix']\n",
    "\n",
    "eyes = {}\n",
    "for c in range(trial_object.size):\n",
    "    # Get all the data for this struct element\n",
    "    trial = int(np.array(fid[trial_object[c,0]])[0][0])\n",
    "    impath = ''.join(chr(i) for i in fid[impath_object[c,0]])\n",
    "    imname = ''.join(chr(i) for i in fid[imname_object[c,0]])\n",
    "    \n",
    "    fixation = int(np.array(fid[fixation_object[c,0]])[0][0])\n",
    "    \n",
    "    in_sac_dur = np.array(fid[in_sac_dur_object[c,0]])[0][0]\n",
    "    in_sac_pkvel = np.array(fid[in_sac_pkvel_object[c,0]])[0][0]\n",
    "    in_sac_blink = int(np.array(fid[in_sac_blink_object[c,0]])[0][0])\n",
    "    \n",
    "    out_sac_dur = np.array(fid[out_sac_dur_object[c,0]])[0][0]\n",
    "    out_sac_pkvel = np.array(fid[out_sac_pkvel_object[c,0]])[0][0]\n",
    "    out_sac_blink = int(np.array(fid[out_sac_blink_object[c,0]])[0][0])\n",
    "    \n",
    "    fix_onset = np.array(fid[fix_onset_object[c,0]])[0][0]\n",
    "    fix_offset = np.array(fid[fix_offset_object[c,0]])[0][0]\n",
    "    \n",
    "    row = np.array(fid[row_object[c,0]])[0][0]\n",
    "    col = np.array(fid[col_object[c,0]])[0][0]\n",
    "    fix_onset_row = np.array(fid[fix_onset_row_object[c,0]])[0][0]\n",
    "    fix_onset_col = np.array(fid[fix_onset_col_object[c,0]])[0][0]\n",
    "    fix_offset_row = np.array(fid[fix_offset_row_object[c,0]])[0][0]\n",
    "    fix_offset_col = np.array(fid[fix_offset_col_object[c,0]])[0][0]\n",
    "    \n",
    "    badfix = int(np.array(fid[badfix_object[c,0]])[0][0])\n",
    "    \n",
    "    # Create a dictionary for this element \n",
    "    this_dict = {}\n",
    "    this_dict['trial'] = trial\n",
    "    this_dict['impath'] = impath\n",
    "    this_dict['imname'] = imname\n",
    "    \n",
    "    this_dict['fixation'] = fixation\n",
    "    \n",
    "    this_dict['in_sac_dur'] = in_sac_dur\n",
    "    this_dict['in_sac_pkvel'] = in_sac_pkvel\n",
    "    this_dict['in_sac_blink'] = in_sac_blink\n",
    "    \n",
    "    this_dict['out_sac_dur'] = out_sac_dur\n",
    "    this_dict['out_sac_pkvel'] = out_sac_pkvel\n",
    "    this_dict['out_sac_blink'] = out_sac_blink\n",
    "    \n",
    "    this_dict['fix_onset'] = fix_onset\n",
    "    this_dict['fix_offset'] = fix_offset\n",
    "    \n",
    "    this_dict['row'] = row\n",
    "    this_dict['col'] = col\n",
    "    this_dict['fix_onset_row'] = fix_onset_row\n",
    "    this_dict['fix_onset_col'] = fix_onset_col\n",
    "    this_dict['fix_offset_row'] = fix_offset_row\n",
    "    this_dict['fix_offset_col'] = fix_offset_col\n",
    "                         \n",
    "    this_dict['badfix'] = badfix\n",
    "    \n",
    "    eyes[c] = this_dict\n",
    "                         \n",
    "print eyes[1]"
   ]
  },
  {
   "cell_type": "code",
   "execution_count": 40,
   "metadata": {},
   "outputs": [
    {
     "data": {
      "text/plain": [
       "array([ 0.00283333,  0.02523333,  0.0297    ,  0.03376667,  0.04586667,\n",
       "        0.05413333,  0.0716    ,  0.08656667,  0.09403333,  0.10193333])"
      ]
     },
     "execution_count": 40,
     "metadata": {},
     "output_type": "execute_result"
    }
   ],
   "source": [
    "# Convert Spikes struct to dict\n",
    "spikes_object = fid['Spikes']\n",
    "unit_object = spikes_object['unit']\n",
    "times_object = spikes_object['times']\n",
    "\n",
    "spikes = {}\n",
    "for u in range(unit_object.size):\n",
    "    uu = np.array(fid[unit_object[u,0]])\n",
    "    tt = np.array(fid[times_object[u,0]])\n",
    "    channel = int(np.floor(uu[0][0]))\n",
    "    unit = int(10*(uu[0][0] - np.floor(uu[0][0])))\n",
    "    unitid = '{0:0=2d}'.format(channel)+'{0:0=2d}'.format(unit)\n",
    "    times = tt[0][:]\n",
    "    spikes[unitid] = times\n",
    "\n",
    "#for u in spikes:\n",
    "#    print u\n",
    "#    print spikes[u][:10]\n",
    "\n",
    "spikes['5401'][:10]"
   ]
  },
  {
   "cell_type": "code",
   "execution_count": 41,
   "metadata": {
    "collapsed": true
   },
   "outputs": [],
   "source": [
    "# Close the file\n",
    "fid.close()"
   ]
  },
  {
   "cell_type": "code",
   "execution_count": 42,
   "metadata": {},
   "outputs": [
    {
     "name": "stdout",
     "output_type": "stream",
     "text": [
      "zlib\n"
     ]
    }
   ],
   "source": [
    "# Put everything into a bigger dict\n",
    "d = {}\n",
    "d['eyes'] = eyes\n",
    "d['spikes'] = spikes\n",
    "\n",
    "# Save it using deepdish\n",
    "dd.io.save(h5path+'/'+thisfile, d)"
   ]
  },
  {
   "cell_type": "code",
   "execution_count": null,
   "metadata": {
    "collapsed": true
   },
   "outputs": [],
   "source": []
  }
 ],
 "metadata": {
  "kernelspec": {
   "display_name": "Python [conda env:V4]",
   "language": "python",
   "name": "conda-env-V4-py"
  },
  "language_info": {
   "codemirror_mode": {
    "name": "ipython",
    "version": 2
   },
   "file_extension": ".py",
   "mimetype": "text/x-python",
   "name": "python",
   "nbconvert_exporter": "python",
   "pygments_lexer": "ipython2",
   "version": "2.7.15"
  }
 },
 "nbformat": 4,
 "nbformat_minor": 1
}
